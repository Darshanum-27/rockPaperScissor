{
 "cells": [
  {
   "cell_type": "code",
   "execution_count": 464,
   "id": "e11ceb6f",
   "metadata": {},
   "outputs": [],
   "source": [
    "from tkinter import *\n",
    "import random"
   ]
  },
  {
   "cell_type": "code",
   "execution_count": 465,
   "id": "c9d5a035",
   "metadata": {},
   "outputs": [
    {
     "data": {
      "text/plain": [
       "''"
      ]
     },
     "execution_count": 465,
     "metadata": {},
     "output_type": "execute_result"
    }
   ],
   "source": [
    "root = Tk()\n",
    "root.geometry('400x450')\n",
    "root.resizable(0,0)\n",
    "root.title('Rock Paper Scissor')"
   ]
  },
  {
   "cell_type": "code",
   "execution_count": 466,
   "id": "30780488",
   "metadata": {},
   "outputs": [],
   "source": [
    "user_take,comp_pick,Result = StringVar(),random.randint(1,3),StringVar()\n",
    "Label(root, text = ' Rock, paper ,scissors\\n Select One').place(x = 120,y=20)\n",
    "Label(root, text = ' RESULT').place(x = 170,y=240)\n",
    "Entry(root, font = 'arial 20', textvariable = user_take).place(x=90, y = 70)"
   ]
  },
  {
   "cell_type": "code",
   "execution_count": 467,
   "id": "fad0379e",
   "metadata": {},
   "outputs": [],
   "source": [
    "if comp_pick == 1:\n",
    "    comp_pick = 'rock'\n",
    "elif comp_pick ==2:\n",
    "    comp_pick = 'paper'\n",
    "else:\n",
    "    comp_pick = 'scissors'"
   ]
  },
  {
   "cell_type": "code",
   "execution_count": 468,
   "id": "a782eb99",
   "metadata": {},
   "outputs": [],
   "source": [
    "def play():\n",
    "    user_pick = user_take.get().lower()\n",
    "    if user_pick == comp_pick:\n",
    "        Result.set('tie,you both select same')\n",
    "    elif user_pick == 'rock' and comp_pick == 'paper':\n",
    "        Result.set('you loose Opponent select paper')\n",
    "    elif user_pick == 'rock' and comp_pick == 'scissors':\n",
    "        Result.set('you win Opponent select scissors')\n",
    "    elif user_pick == 'paper' and comp_pick == 'scissors':\n",
    "        Result.set('you loose Opponent select scissors')\n",
    "    elif user_pick == 'paper' and comp_pick == 'rock':\n",
    "        Result.set('you win Opponent select rock')\n",
    "    elif user_pick == 'scissors' and comp_pick == 'rock':\n",
    "        Result.set('you loose Opponent select rock')\n",
    "    elif user_pick == 'scissors' and comp_pick == 'paper':\n",
    "        Result.set('you win Opponent select paper')\n",
    "    else:\n",
    "        Result.set('invalid: choose any one -- rock, paper, scissors')"
   ]
  },
  {
   "cell_type": "code",
   "execution_count": 469,
   "id": "3da04705",
   "metadata": {},
   "outputs": [],
   "source": [
    "def Exit():\n",
    "    root.destroy()"
   ]
  },
  {
   "cell_type": "code",
   "execution_count": 470,
   "id": "6994cdb6",
   "metadata": {},
   "outputs": [],
   "source": [
    "Entry(root, font = 'arial 20 bold', textvariable = Result,width = 30).place(x=30, y = 270)\n",
    "\n",
    "Button(root, font = 'arial 13 bold', text = 'Continue'  ,padx =5,command = play).place(x=140,y=110)\n",
    "\n",
    "Button(root, font = 'arial 13 bold', text = 'End',command = Exit).place(x=170,y=310)\n",
    "root.mainloop()"
   ]
  },
  {
   "cell_type": "code",
   "execution_count": null,
   "id": "191cc11d",
   "metadata": {},
   "outputs": [],
   "source": []
  }
 ],
 "metadata": {
  "kernelspec": {
   "display_name": "Python 3 (ipykernel)",
   "language": "python",
   "name": "python3"
  },
  "language_info": {
   "codemirror_mode": {
    "name": "ipython",
    "version": 3
   },
   "file_extension": ".py",
   "mimetype": "text/x-python",
   "name": "python",
   "nbconvert_exporter": "python",
   "pygments_lexer": "ipython3",
   "version": "3.9.7"
  }
 },
 "nbformat": 4,
 "nbformat_minor": 5
}
